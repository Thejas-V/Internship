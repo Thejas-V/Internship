{
 "cells": [
  {
   "cell_type": "code",
   "execution_count": 1,
   "id": "ab7d6ba4",
   "metadata": {},
   "outputs": [
    {
     "name": "stdout",
     "output_type": "stream",
     "text": [
      "Requirement already satisfied: bs4 in c:\\users\\dell\\anaconda3\\lib\\site-packages (0.0.1)\n",
      "Requirement already satisfied: beautifulsoup4 in c:\\users\\dell\\anaconda3\\lib\\site-packages (from bs4) (4.11.1)\n",
      "Requirement already satisfied: soupsieve>1.2 in c:\\users\\dell\\anaconda3\\lib\\site-packages (from beautifulsoup4->bs4) (2.3.1)\n",
      "Requirement already satisfied: requests in c:\\users\\dell\\anaconda3\\lib\\site-packages (2.27.1)\n",
      "Requirement already satisfied: certifi>=2017.4.17 in c:\\users\\dell\\anaconda3\\lib\\site-packages (from requests) (2021.10.8)\n",
      "Requirement already satisfied: idna<4,>=2.5 in c:\\users\\dell\\anaconda3\\lib\\site-packages (from requests) (3.3)\n",
      "Requirement already satisfied: urllib3<1.27,>=1.21.1 in c:\\users\\dell\\anaconda3\\lib\\site-packages (from requests) (1.26.9)\n",
      "Requirement already satisfied: charset-normalizer~=2.0.0 in c:\\users\\dell\\anaconda3\\lib\\site-packages (from requests) (2.0.4)\n"
     ]
    }
   ],
   "source": [
    "!pip install bs4\n",
    "!pip install requests\n",
    "from bs4 import BeautifulSoup\n",
    "import requests"
   ]
  },
  {
   "cell_type": "code",
   "execution_count": 6,
   "id": "7e46128c",
   "metadata": {},
   "outputs": [],
   "source": [
    "page = requests.get(\"https://www.dineout.co.in/delhi-restaurants/buffet-special\")\n",
    "restaurants = BeautifulSoup(page.content)"
   ]
  },
  {
   "cell_type": "code",
   "execution_count": 13,
   "id": "f56bb5b2",
   "metadata": {},
   "outputs": [
    {
     "data": {
      "text/plain": [
       "['4.3232 votesCastle BarbequeConnaught Place, Central Delhi₹ 2,000 for 2 (approx) | Chinese, North IndianDineout Pay',\n",
       " '4.3232 votesJungle Jamboree3CS Mall,Lajpat Nagar - 3, South Delhi₹ 1,680 for 2 (approx) | North Indian, Asian, ItalianDineout Pay',\n",
       " '4.3232 votesCafe KnoshThe Leela Ambience Convention Hotel,Shahdara, East Delhi₹ 3,000 for 2 (approx) | Italian, ContinentalDineout Pay',\n",
       " '4.3232 votesCastle BarbequePacific Mall,Tagore Garden, West Delhi₹ 2,000 for 2 (approx) | Chinese, North IndianDineout Pay',\n",
       " '4.3232 votesThe Barbeque CompanyGardens Galleria,Sector 38A, Noida₹ 1,700 for 2 (approx) | North Indian, Chinese4 deals availableDineout PayWeekday Dinner Buffet (Applicable for 4 Pax)Buy NowLunch Buffet with 1 Soft Beverage (Applicable for 4 Pax)Buy NowLunch Buffet with 1 Soft Beverage (Applicable for 4 Pax)Buy NowWeekend Dinner Buffet (Applicable for 4 Pax)Buy Now+3 more deals- See less',\n",
       " '4.3232 votesIndia GrillHilton Garden Inn,Saket, South Delhi₹ 2,400 for 2 (approx) | North Indian, ItalianDineout Pay',\n",
       " '4.3232 votesDelhi BarbequeTaurus Sarovar Portico,Mahipalpur, South Delhi₹ 1,800 for 2 (approx) | North IndianDineout Pay',\n",
       " '4.3232 votesThe Monarch - Bar Be Que VillageIndirapuram Habitat Centre,Indirapuram, Ghaziabad₹ 1,900 for 2 (approx) | North IndianDineout Pay',\n",
       " '4.3232 votesIndian Grill RoomSuncity Business Tower,Golf Course Road, Gurgaon₹ 2,200 for 2 (approx) | North Indian, MughlaiDineout Pay']"
      ]
     },
     "execution_count": 13,
     "metadata": {},
     "output_type": "execute_result"
    }
   ],
   "source": [
    "fulldetails = []\n",
    "for i in restaurants.find_all(\"div\",class_=\"restnt-detail-wrap\"):\n",
    "    fulldetails.append(i.text)\n",
    "\n",
    "fulldetails"
   ]
  },
  {
   "cell_type": "code",
   "execution_count": null,
   "id": "565cea12",
   "metadata": {},
   "outputs": [],
   "source": []
  }
 ],
 "metadata": {
  "kernelspec": {
   "display_name": "Python 3 (ipykernel)",
   "language": "python",
   "name": "python3"
  },
  "language_info": {
   "codemirror_mode": {
    "name": "ipython",
    "version": 3
   },
   "file_extension": ".py",
   "mimetype": "text/x-python",
   "name": "python",
   "nbconvert_exporter": "python",
   "pygments_lexer": "ipython3",
   "version": "3.9.12"
  }
 },
 "nbformat": 4,
 "nbformat_minor": 5
}
