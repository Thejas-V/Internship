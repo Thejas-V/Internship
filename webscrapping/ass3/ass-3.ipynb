{
 "cells": [
  {
   "cell_type": "code",
   "execution_count": 1,
   "id": "4a86e798",
   "metadata": {},
   "outputs": [
    {
     "name": "stdout",
     "output_type": "stream",
     "text": [
      "Requirement already satisfied: selenium in c:\\users\\dell\\anaconda3\\lib\\site-packages (4.4.2)\n",
      "Requirement already satisfied: certifi~=2021.10.8 in c:\\users\\dell\\anaconda3\\lib\\site-packages (from selenium) (2021.10.8)\n",
      "Requirement already satisfied: trio-websocket~=0.9 in c:\\users\\dell\\anaconda3\\lib\\site-packages (from selenium) (0.9.2)\n",
      "Requirement already satisfied: urllib3[socks]~=1.26 in c:\\users\\dell\\anaconda3\\lib\\site-packages (from selenium) (1.26.9)\n",
      "Requirement already satisfied: trio~=0.17 in c:\\users\\dell\\anaconda3\\lib\\site-packages (from selenium) (0.21.0)\n",
      "Requirement already satisfied: async-generator>=1.9 in c:\\users\\dell\\anaconda3\\lib\\site-packages (from trio~=0.17->selenium) (1.10)\n",
      "Requirement already satisfied: sortedcontainers in c:\\users\\dell\\anaconda3\\lib\\site-packages (from trio~=0.17->selenium) (2.4.0)\n",
      "Requirement already satisfied: sniffio in c:\\users\\dell\\anaconda3\\lib\\site-packages (from trio~=0.17->selenium) (1.2.0)\n",
      "Requirement already satisfied: idna in c:\\users\\dell\\anaconda3\\lib\\site-packages (from trio~=0.17->selenium) (3.3)\n",
      "Requirement already satisfied: outcome in c:\\users\\dell\\anaconda3\\lib\\site-packages (from trio~=0.17->selenium) (1.2.0)\n",
      "Requirement already satisfied: cffi>=1.14 in c:\\users\\dell\\anaconda3\\lib\\site-packages (from trio~=0.17->selenium) (1.15.0)\n",
      "Requirement already satisfied: attrs>=19.2.0 in c:\\users\\dell\\anaconda3\\lib\\site-packages (from trio~=0.17->selenium) (21.4.0)\n",
      "Requirement already satisfied: pycparser in c:\\users\\dell\\anaconda3\\lib\\site-packages (from cffi>=1.14->trio~=0.17->selenium) (2.21)\n",
      "Requirement already satisfied: wsproto>=0.14 in c:\\users\\dell\\anaconda3\\lib\\site-packages (from trio-websocket~=0.9->selenium) (1.1.0)\n",
      "Requirement already satisfied: PySocks!=1.5.7,<2.0,>=1.5.6 in c:\\users\\dell\\anaconda3\\lib\\site-packages (from urllib3[socks]~=1.26->selenium) (1.7.1)\n",
      "Requirement already satisfied: h11<1,>=0.9.0 in c:\\users\\dell\\anaconda3\\lib\\site-packages (from wsproto>=0.14->trio-websocket~=0.9->selenium) (0.13.0)\n"
     ]
    }
   ],
   "source": [
    "!pip install selenium\n",
    "import selenium\n",
    "import pandas as pd\n",
    "from selenium import webdriver\n",
    "import warnings\n",
    "warnings.filterwarnings('ignore')\n",
    "from selenium.common.exceptions import StaleElementReferenceException, NoSuchElementException\n",
    "import time\n",
    "from selenium.webdriver.support.ui import WebDriverWait\n",
    "from selenium.webdriver.support import expected_conditions as EC\n",
    "from selenium.webdriver.common.by import By"
   ]
  },
  {
   "cell_type": "code",
   "execution_count": 12,
   "id": "efe069c4",
   "metadata": {},
   "outputs": [
    {
     "name": "stdout",
     "output_type": "stream",
     "text": [
      "what do you want to search? payphone\n"
     ]
    }
   ],
   "source": [
    "#1) Write a python program which searches all the product under a particular product from www.amazon.in.\n",
    "driver = webdriver.Chrome(r'C:\\Users\\DELL\\Downloads\\chromedriver_win32\\Chromedriver.exe')\n",
    "driver.get('https://www.amazon.in/')\n",
    "pro = input(\"what do you want to search? \")"
   ]
  },
  {
   "cell_type": "code",
   "execution_count": 23,
   "id": "fabe7e74",
   "metadata": {},
   "outputs": [],
   "source": [
    "#2) In the above question, now scrape the following details of each product listed in first 3 pages of your search results and save it in a data frame and csv.\n",
    "driver = webdriver.Chrome(r'C:\\Users\\DELL\\Downloads\\chromedriver_win32\\Chromedriver.exe')\n",
    "driver.get('https://www.amazon.in/')"
   ]
  },
  {
   "cell_type": "code",
   "execution_count": 24,
   "id": "5df84025",
   "metadata": {},
   "outputs": [],
   "source": [
    "product=driver.find_element(By.XPATH,'/html/body/div[1]/header/div/div[1]/div[2]/div/form/div[2]/div[1]/input')\n",
    "product.send_keys('guitar')\n",
    "search=driver.find_element(By.XPATH,'/html/body/div[1]/header/div/div[1]/div[2]/div/form/div[3]/div/span/input')\n",
    "search.click()\n",
    "time.sleep(5)"
   ]
  },
  {
   "cell_type": "code",
   "execution_count": 37,
   "id": "41cc7f96",
   "metadata": {},
   "outputs": [],
   "source": [
    "url = []\n",
    "Total=[]\n",
    "start=0\n",
    "end=3\n",
    "for page in range(start,end):\n",
    "    urls=driver.find_elements(By.XPATH,'//a[@class=\"a-link-normal s-underline-text s-underline-link-text s-link-style a-text-normal\"]')\n",
    "    Total_pro = driver.find_elements(By.XPATH,'//div[@class=\"a-section a-spacing-small puis-padding-left-small puis-padding-right-small\"]')\n",
    "    for i in urls:\n",
    "        url.append(i.get_attribute(\"href\"))\n",
    "    for i in Total_pro:\n",
    "        tit=i.text.split(\"/n\")\n",
    "        Total.append(tit)\n",
    "    nxt = driver.find_element(By.XPATH,'//a[@class=\"s-pagination-item s-pagination-next s-pagination-button s-pagination-separator\"]')\n",
    "    nxt.click()\n",
    "    time.sleep(5)"
   ]
  },
  {
   "cell_type": "code",
   "execution_count": 39,
   "id": "73d1aa8c",
   "metadata": {},
   "outputs": [
    {
     "data": {
      "text/html": [
       "<div>\n",
       "<style scoped>\n",
       "    .dataframe tbody tr th:only-of-type {\n",
       "        vertical-align: middle;\n",
       "    }\n",
       "\n",
       "    .dataframe tbody tr th {\n",
       "        vertical-align: top;\n",
       "    }\n",
       "\n",
       "    .dataframe thead th {\n",
       "        text-align: right;\n",
       "    }\n",
       "</style>\n",
       "<table border=\"1\" class=\"dataframe\">\n",
       "  <thead>\n",
       "    <tr style=\"text-align: right;\">\n",
       "      <th></th>\n",
       "      <th>Description</th>\n",
       "      <th>Url</th>\n",
       "    </tr>\n",
       "  </thead>\n",
       "  <tbody>\n",
       "    <tr>\n",
       "      <th>0</th>\n",
       "      <td>[Sponsored\\nDIKUJI ENTERPRISE Plastic Medium A...</td>\n",
       "      <td>https://www.amazon.in/gp/slredirect/picassoRed...</td>\n",
       "    </tr>\n",
       "    <tr>\n",
       "      <th>1</th>\n",
       "      <td>[Juârez Acoustic Guitar, 38 Inch Cutaway, 038C...</td>\n",
       "      <td>https://www.amazon.in/Juarez-Acoustic-Cutaway-...</td>\n",
       "    </tr>\n",
       "    <tr>\n",
       "      <th>2</th>\n",
       "      <td>[Intern 38C Ebony Wood Cutaway Design Acoustic...</td>\n",
       "      <td>https://www.amazon.in/Intern-38-inch-Cutaway-D...</td>\n",
       "    </tr>\n",
       "    <tr>\n",
       "      <th>3</th>\n",
       "      <td>[Juarez Acoustic Guitar, 38 Inch Curved Body C...</td>\n",
       "      <td>https://www.amazon.in/Juarez-Acoustic-Guitar-C...</td>\n",
       "    </tr>\n",
       "    <tr>\n",
       "      <th>4</th>\n",
       "      <td>[Fender CD 60 Dread V3 DS 6 String Acoustic Gu...</td>\n",
       "      <td>https://www.amazon.in/Fender-Dread-String-Acou...</td>\n",
       "    </tr>\n",
       "    <tr>\n",
       "      <th>...</th>\n",
       "      <td>...</td>\n",
       "      <td>...</td>\n",
       "    </tr>\n",
       "    <tr>\n",
       "      <th>159</th>\n",
       "      <td>[Intern INT-38C-RD-G Linden Wood Cutaway Right...</td>\n",
       "      <td>https://www.amazon.in/Intern-INT-38C-RD-G-Guit...</td>\n",
       "    </tr>\n",
       "    <tr>\n",
       "      <th>160</th>\n",
       "      <td>[Fender FA-125CE Dreadnought Electro Acoustic ...</td>\n",
       "      <td>https://www.amazon.in/Fender-FA-125CE-Dreadnou...</td>\n",
       "    </tr>\n",
       "    <tr>\n",
       "      <th>161</th>\n",
       "      <td>[INTERN 40 inches Acoustic Guitar with Pick-up...</td>\n",
       "      <td>https://www.amazon.in/Acoustic-Pick-up-stabili...</td>\n",
       "    </tr>\n",
       "    <tr>\n",
       "      <th>162</th>\n",
       "      <td>[Cort AD810 Dreadnought Acoustic Guitar with G...</td>\n",
       "      <td>https://www.amazon.in/Cort-AD810-Dreadnought-A...</td>\n",
       "    </tr>\n",
       "    <tr>\n",
       "      <th>163</th>\n",
       "      <td>[Yamaha Classic Guitar C40 - With Sponge Bag, ...</td>\n",
       "      <td>https://www.amazon.in/Yamaha-Classic-Guitar-C4...</td>\n",
       "    </tr>\n",
       "  </tbody>\n",
       "</table>\n",
       "<p>164 rows × 2 columns</p>\n",
       "</div>"
      ],
      "text/plain": [
       "                                           Description  \\\n",
       "0    [Sponsored\\nDIKUJI ENTERPRISE Plastic Medium A...   \n",
       "1    [Juârez Acoustic Guitar, 38 Inch Cutaway, 038C...   \n",
       "2    [Intern 38C Ebony Wood Cutaway Design Acoustic...   \n",
       "3    [Juarez Acoustic Guitar, 38 Inch Curved Body C...   \n",
       "4    [Fender CD 60 Dread V3 DS 6 String Acoustic Gu...   \n",
       "..                                                 ...   \n",
       "159  [Intern INT-38C-RD-G Linden Wood Cutaway Right...   \n",
       "160  [Fender FA-125CE Dreadnought Electro Acoustic ...   \n",
       "161  [INTERN 40 inches Acoustic Guitar with Pick-up...   \n",
       "162  [Cort AD810 Dreadnought Acoustic Guitar with G...   \n",
       "163  [Yamaha Classic Guitar C40 - With Sponge Bag, ...   \n",
       "\n",
       "                                                   Url  \n",
       "0    https://www.amazon.in/gp/slredirect/picassoRed...  \n",
       "1    https://www.amazon.in/Juarez-Acoustic-Cutaway-...  \n",
       "2    https://www.amazon.in/Intern-38-inch-Cutaway-D...  \n",
       "3    https://www.amazon.in/Juarez-Acoustic-Guitar-C...  \n",
       "4    https://www.amazon.in/Fender-Dread-String-Acou...  \n",
       "..                                                 ...  \n",
       "159  https://www.amazon.in/Intern-INT-38C-RD-G-Guit...  \n",
       "160  https://www.amazon.in/Fender-FA-125CE-Dreadnou...  \n",
       "161  https://www.amazon.in/Acoustic-Pick-up-stabili...  \n",
       "162  https://www.amazon.in/Cort-AD810-Dreadnought-A...  \n",
       "163  https://www.amazon.in/Yamaha-Classic-Guitar-C4...  \n",
       "\n",
       "[164 rows x 2 columns]"
      ]
     },
     "execution_count": 39,
     "metadata": {},
     "output_type": "execute_result"
    }
   ],
   "source": [
    "df=pd.DataFrame({'Description':Total,'Url':url})\n",
    "df"
   ]
  },
  {
   "cell_type": "code",
   "execution_count": 40,
   "id": "27ca3905",
   "metadata": {},
   "outputs": [],
   "source": [
    "#3. Write a python program to access the search bar and search button on images.google.com and scrape 10 images each for keywords ‘fruits’, ‘cars’ and ‘Machine Learning’, ‘Guitar’, ‘Cakes’.\n",
    "driver = webdriver.Chrome(r'C:\\Users\\DELL\\Downloads\\chromedriver_win32\\Chromedriver.exe')\n",
    "driver.get('https://images.google.com/')"
   ]
  },
  {
   "cell_type": "code",
   "execution_count": 41,
   "id": "a6cb0a8d",
   "metadata": {},
   "outputs": [],
   "source": [
    "product=driver.find_element(By.XPATH,'/html/body/div[1]/div[3]/form/div[1]/div[1]/div[1]/div/div[2]/input')\n",
    "product.send_keys('fruits')\n",
    "search=driver.find_element(By.XPATH,'/html/body/div[1]/div[3]/form/div[1]/div[1]/div[1]/button/div')\n",
    "search.click()\n",
    "time.sleep(5)"
   ]
  },
  {
   "cell_type": "code",
   "execution_count": null,
   "id": "9b14a075",
   "metadata": {},
   "outputs": [],
   "source": []
  }
 ],
 "metadata": {
  "kernelspec": {
   "display_name": "Python 3 (ipykernel)",
   "language": "python",
   "name": "python3"
  },
  "language_info": {
   "codemirror_mode": {
    "name": "ipython",
    "version": 3
   },
   "file_extension": ".py",
   "mimetype": "text/x-python",
   "name": "python",
   "nbconvert_exporter": "python",
   "pygments_lexer": "ipython3",
   "version": "3.9.12"
  }
 },
 "nbformat": 4,
 "nbformat_minor": 5
}
