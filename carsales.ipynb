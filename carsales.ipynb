{
 "cells": [
  {
   "cell_type": "code",
   "execution_count": 1,
   "id": "12969ce5",
   "metadata": {},
   "outputs": [
    {
     "name": "stdout",
     "output_type": "stream",
     "text": [
      "Requirement already satisfied: selenium in c:\\users\\dell\\anaconda3\\lib\\site-packages (4.4.2)\n",
      "Requirement already satisfied: certifi~=2021.10.8 in c:\\users\\dell\\anaconda3\\lib\\site-packages (from selenium) (2021.10.8)\n",
      "Requirement already satisfied: urllib3[socks]~=1.26 in c:\\users\\dell\\anaconda3\\lib\\site-packages (from selenium) (1.26.9)\n",
      "Requirement already satisfied: trio-websocket~=0.9 in c:\\users\\dell\\anaconda3\\lib\\site-packages (from selenium) (0.9.2)\n",
      "Requirement already satisfied: trio~=0.17 in c:\\users\\dell\\anaconda3\\lib\\site-packages (from selenium) (0.21.0)\n",
      "Requirement already satisfied: sniffio in c:\\users\\dell\\anaconda3\\lib\\site-packages (from trio~=0.17->selenium) (1.2.0)\n",
      "Requirement already satisfied: idna in c:\\users\\dell\\anaconda3\\lib\\site-packages (from trio~=0.17->selenium) (3.3)\n",
      "Requirement already satisfied: cffi>=1.14 in c:\\users\\dell\\anaconda3\\lib\\site-packages (from trio~=0.17->selenium) (1.15.0)\n",
      "Requirement already satisfied: attrs>=19.2.0 in c:\\users\\dell\\anaconda3\\lib\\site-packages (from trio~=0.17->selenium) (21.4.0)\n",
      "Requirement already satisfied: sortedcontainers in c:\\users\\dell\\anaconda3\\lib\\site-packages (from trio~=0.17->selenium) (2.4.0)\n",
      "Requirement already satisfied: outcome in c:\\users\\dell\\anaconda3\\lib\\site-packages (from trio~=0.17->selenium) (1.2.0)\n",
      "Requirement already satisfied: async-generator>=1.9 in c:\\users\\dell\\anaconda3\\lib\\site-packages (from trio~=0.17->selenium) (1.10)\n",
      "Requirement already satisfied: pycparser in c:\\users\\dell\\anaconda3\\lib\\site-packages (from cffi>=1.14->trio~=0.17->selenium) (2.21)\n",
      "Requirement already satisfied: wsproto>=0.14 in c:\\users\\dell\\anaconda3\\lib\\site-packages (from trio-websocket~=0.9->selenium) (1.1.0)\n",
      "Requirement already satisfied: PySocks!=1.5.7,<2.0,>=1.5.6 in c:\\users\\dell\\anaconda3\\lib\\site-packages (from urllib3[socks]~=1.26->selenium) (1.7.1)\n",
      "Requirement already satisfied: h11<1,>=0.9.0 in c:\\users\\dell\\anaconda3\\lib\\site-packages (from wsproto>=0.14->trio-websocket~=0.9->selenium) (0.13.0)\n"
     ]
    }
   ],
   "source": [
    "!pip install selenium\n",
    "import selenium\n",
    "import pandas as pd\n",
    "from selenium import webdriver\n",
    "import warnings\n",
    "warnings.filterwarnings('ignore')\n",
    "from selenium.common.exceptions import StaleElementReferenceException, NoSuchElementException\n",
    "import time\n",
    "from selenium.webdriver.support.ui import WebDriverWait\n",
    "from selenium.webdriver.support import expected_conditions as EC\n",
    "from selenium.webdriver.common.by import By"
   ]
  },
  {
   "cell_type": "code",
   "execution_count": 6,
   "id": "e81031df",
   "metadata": {},
   "outputs": [],
   "source": [
    "#1) Write a python program which searches all the product under a particular product from www.amazon.in.\n",
    "driver = webdriver.Chrome(r'C:\\Users\\DELL\\Downloads\\chromedriver_win32\\chromedriver.exe')\n",
    "driver.get('https://www.olx.in/')"
   ]
  },
  {
   "cell_type": "code",
   "execution_count": 7,
   "id": "1d8af447",
   "metadata": {},
   "outputs": [],
   "source": [
    "cars =driver.find_element(By.XPATH,\"/html/body/div[1]/div/div[1]/div/div/div[1]/div[2]/div[1]/a\")\n",
    "cars.click()"
   ]
  },
  {
   "cell_type": "code",
   "execution_count": 13,
   "id": "40e53737",
   "metadata": {},
   "outputs": [
    {
     "ename": "InvalidSelectorException",
     "evalue": "Message: invalid selector: An invalid or illegal selector was specified\n  (Session info: chrome=107.0.5304.88)\nStacktrace:\nBacktrace:\n\tOrdinal0 [0x004FACD3+2075859]\n\tOrdinal0 [0x0048EE61+1633889]\n\tOrdinal0 [0x0038B7BD+571325]\n\tOrdinal0 [0x0038E374+582516]\n\tOrdinal0 [0x0038E225+582181]\n\tOrdinal0 [0x0038E4C0+582848]\n\tOrdinal0 [0x003BA9A2+764322]\n\tOrdinal0 [0x003BAE1B+765467]\n\tOrdinal0 [0x003ED0F2+970994]\n\tOrdinal0 [0x003D7364+881508]\n\tOrdinal0 [0x003EB56A+963946]\n\tOrdinal0 [0x003D7136+880950]\n\tOrdinal0 [0x003AFEFD+720637]\n\tOrdinal0 [0x003B0F3F+724799]\n\tGetHandleVerifier [0x007AEED2+2769538]\n\tGetHandleVerifier [0x007A0D95+2711877]\n\tGetHandleVerifier [0x0058A03A+521194]\n\tGetHandleVerifier [0x00588DA0+516432]\n\tOrdinal0 [0x0049682C+1665068]\n\tOrdinal0 [0x0049B128+1683752]\n\tOrdinal0 [0x0049B215+1683989]\n\tOrdinal0 [0x004A6484+1729668]\n\tBaseThreadInitThunk [0x75A6FA29+25]\n\tRtlGetAppContainerNamedObjectPath [0x77027BBE+286]\n\tRtlGetAppContainerNamedObjectPath [0x77027B8E+238]\n",
     "output_type": "error",
     "traceback": [
      "\u001b[1;31m---------------------------------------------------------------------------\u001b[0m",
      "\u001b[1;31mInvalidSelectorException\u001b[0m                  Traceback (most recent call last)",
      "Input \u001b[1;32mIn [13]\u001b[0m, in \u001b[0;36m<cell line: 8>\u001b[1;34m()\u001b[0m\n\u001b[0;32m     32\u001b[0m     l \u001b[38;5;241m=\u001b[39m i\u001b[38;5;241m.\u001b[39mtext\u001b[38;5;241m.\u001b[39msplit(\u001b[38;5;124m\"\u001b[39m\u001b[38;5;124m \u001b[39m\u001b[38;5;124m\"\u001b[39m)[\u001b[38;5;241m0\u001b[39m]\n\u001b[0;32m     33\u001b[0m     Location\u001b[38;5;241m.\u001b[39mappend(l)\n\u001b[1;32m---> 34\u001b[0m next_but\u001b[38;5;241m=\u001b[39m\u001b[43mdriver\u001b[49m\u001b[38;5;241;43m.\u001b[39;49m\u001b[43mfind_element\u001b[49m\u001b[43m(\u001b[49m\u001b[43mBy\u001b[49m\u001b[38;5;241;43m.\u001b[39;49m\u001b[43mCLASS_NAME\u001b[49m\u001b[43m,\u001b[49m\u001b[38;5;124;43m'\u001b[39;49m\u001b[38;5;124;43m//div[@class=\u001b[39;49m\u001b[38;5;124;43m\"\u001b[39;49m\u001b[38;5;124;43m_38O09\u001b[39;49m\u001b[38;5;124;43m\"\u001b[39;49m\u001b[38;5;124;43m]\u001b[39;49m\u001b[38;5;124;43m'\u001b[39;49m\u001b[43m)\u001b[49m\n\u001b[0;32m     35\u001b[0m next_but\u001b[38;5;241m.\u001b[39mclick()\n\u001b[0;32m     36\u001b[0m time\u001b[38;5;241m.\u001b[39msleep(\u001b[38;5;241m5\u001b[39m)\n",
      "File \u001b[1;32m~\\anaconda3\\lib\\site-packages\\selenium\\webdriver\\remote\\webdriver.py:855\u001b[0m, in \u001b[0;36mWebDriver.find_element\u001b[1;34m(self, by, value)\u001b[0m\n\u001b[0;32m    852\u001b[0m     by \u001b[38;5;241m=\u001b[39m By\u001b[38;5;241m.\u001b[39mCSS_SELECTOR\n\u001b[0;32m    853\u001b[0m     value \u001b[38;5;241m=\u001b[39m \u001b[38;5;124m'\u001b[39m\u001b[38;5;124m[name=\u001b[39m\u001b[38;5;124m\"\u001b[39m\u001b[38;5;132;01m%s\u001b[39;00m\u001b[38;5;124m\"\u001b[39m\u001b[38;5;124m]\u001b[39m\u001b[38;5;124m'\u001b[39m \u001b[38;5;241m%\u001b[39m value\n\u001b[1;32m--> 855\u001b[0m \u001b[38;5;28;01mreturn\u001b[39;00m \u001b[38;5;28;43mself\u001b[39;49m\u001b[38;5;241;43m.\u001b[39;49m\u001b[43mexecute\u001b[49m\u001b[43m(\u001b[49m\u001b[43mCommand\u001b[49m\u001b[38;5;241;43m.\u001b[39;49m\u001b[43mFIND_ELEMENT\u001b[49m\u001b[43m,\u001b[49m\u001b[43m \u001b[49m\u001b[43m{\u001b[49m\n\u001b[0;32m    856\u001b[0m \u001b[43m    \u001b[49m\u001b[38;5;124;43m'\u001b[39;49m\u001b[38;5;124;43musing\u001b[39;49m\u001b[38;5;124;43m'\u001b[39;49m\u001b[43m:\u001b[49m\u001b[43m \u001b[49m\u001b[43mby\u001b[49m\u001b[43m,\u001b[49m\n\u001b[0;32m    857\u001b[0m \u001b[43m    \u001b[49m\u001b[38;5;124;43m'\u001b[39;49m\u001b[38;5;124;43mvalue\u001b[39;49m\u001b[38;5;124;43m'\u001b[39;49m\u001b[43m:\u001b[49m\u001b[43m \u001b[49m\u001b[43mvalue\u001b[49m\u001b[43m}\u001b[49m\u001b[43m)\u001b[49m[\u001b[38;5;124m'\u001b[39m\u001b[38;5;124mvalue\u001b[39m\u001b[38;5;124m'\u001b[39m]\n",
      "File \u001b[1;32m~\\anaconda3\\lib\\site-packages\\selenium\\webdriver\\remote\\webdriver.py:428\u001b[0m, in \u001b[0;36mWebDriver.execute\u001b[1;34m(self, driver_command, params)\u001b[0m\n\u001b[0;32m    426\u001b[0m response \u001b[38;5;241m=\u001b[39m \u001b[38;5;28mself\u001b[39m\u001b[38;5;241m.\u001b[39mcommand_executor\u001b[38;5;241m.\u001b[39mexecute(driver_command, params)\n\u001b[0;32m    427\u001b[0m \u001b[38;5;28;01mif\u001b[39;00m response:\n\u001b[1;32m--> 428\u001b[0m     \u001b[38;5;28;43mself\u001b[39;49m\u001b[38;5;241;43m.\u001b[39;49m\u001b[43merror_handler\u001b[49m\u001b[38;5;241;43m.\u001b[39;49m\u001b[43mcheck_response\u001b[49m\u001b[43m(\u001b[49m\u001b[43mresponse\u001b[49m\u001b[43m)\u001b[49m\n\u001b[0;32m    429\u001b[0m     response[\u001b[38;5;124m'\u001b[39m\u001b[38;5;124mvalue\u001b[39m\u001b[38;5;124m'\u001b[39m] \u001b[38;5;241m=\u001b[39m \u001b[38;5;28mself\u001b[39m\u001b[38;5;241m.\u001b[39m_unwrap_value(\n\u001b[0;32m    430\u001b[0m         response\u001b[38;5;241m.\u001b[39mget(\u001b[38;5;124m'\u001b[39m\u001b[38;5;124mvalue\u001b[39m\u001b[38;5;124m'\u001b[39m, \u001b[38;5;28;01mNone\u001b[39;00m))\n\u001b[0;32m    431\u001b[0m     \u001b[38;5;28;01mreturn\u001b[39;00m response\n",
      "File \u001b[1;32m~\\anaconda3\\lib\\site-packages\\selenium\\webdriver\\remote\\errorhandler.py:243\u001b[0m, in \u001b[0;36mErrorHandler.check_response\u001b[1;34m(self, response)\u001b[0m\n\u001b[0;32m    241\u001b[0m         alert_text \u001b[38;5;241m=\u001b[39m value[\u001b[38;5;124m'\u001b[39m\u001b[38;5;124malert\u001b[39m\u001b[38;5;124m'\u001b[39m]\u001b[38;5;241m.\u001b[39mget(\u001b[38;5;124m'\u001b[39m\u001b[38;5;124mtext\u001b[39m\u001b[38;5;124m'\u001b[39m)\n\u001b[0;32m    242\u001b[0m     \u001b[38;5;28;01mraise\u001b[39;00m exception_class(message, screen, stacktrace, alert_text)  \u001b[38;5;66;03m# type: ignore[call-arg]  # mypy is not smart enough here\u001b[39;00m\n\u001b[1;32m--> 243\u001b[0m \u001b[38;5;28;01mraise\u001b[39;00m exception_class(message, screen, stacktrace)\n",
      "\u001b[1;31mInvalidSelectorException\u001b[0m: Message: invalid selector: An invalid or illegal selector was specified\n  (Session info: chrome=107.0.5304.88)\nStacktrace:\nBacktrace:\n\tOrdinal0 [0x004FACD3+2075859]\n\tOrdinal0 [0x0048EE61+1633889]\n\tOrdinal0 [0x0038B7BD+571325]\n\tOrdinal0 [0x0038E374+582516]\n\tOrdinal0 [0x0038E225+582181]\n\tOrdinal0 [0x0038E4C0+582848]\n\tOrdinal0 [0x003BA9A2+764322]\n\tOrdinal0 [0x003BAE1B+765467]\n\tOrdinal0 [0x003ED0F2+970994]\n\tOrdinal0 [0x003D7364+881508]\n\tOrdinal0 [0x003EB56A+963946]\n\tOrdinal0 [0x003D7136+880950]\n\tOrdinal0 [0x003AFEFD+720637]\n\tOrdinal0 [0x003B0F3F+724799]\n\tGetHandleVerifier [0x007AEED2+2769538]\n\tGetHandleVerifier [0x007A0D95+2711877]\n\tGetHandleVerifier [0x0058A03A+521194]\n\tGetHandleVerifier [0x00588DA0+516432]\n\tOrdinal0 [0x0049682C+1665068]\n\tOrdinal0 [0x0049B128+1683752]\n\tOrdinal0 [0x0049B215+1683989]\n\tOrdinal0 [0x004A6484+1729668]\n\tBaseThreadInitThunk [0x75A6FA29+25]\n\tRtlGetAppContainerNamedObjectPath [0x77027BBE+286]\n\tRtlGetAppContainerNamedObjectPath [0x77027B8E+238]\n"
     ]
    }
   ],
   "source": [
    "start = 0\n",
    "stop = 10\n",
    "Sale_price = []\n",
    "Model_year = []\n",
    "Kilometers = []\n",
    "Car_model = []\n",
    "Location = []\n",
    "for page in range(start,stop):\n",
    "    \n",
    "    Price=driver.find_elements(By.XPATH,'//span[@class=\"_1zgtX\"]')\n",
    "    for i in Price[:10000]:\n",
    "        sale = i.text\n",
    "        Sale_price.append(sale)\n",
    "    \n",
    "    Model=driver.find_elements(By.XPATH,'//div[@class=\"_21gnE\"]')\n",
    "    for i in Model[:10000]:\n",
    "        year = i.text.split(\"-\")[0]\n",
    "        Model_year.append(year)\n",
    "    \n",
    "    Meters=driver.find_elements(By.XPATH,'//div[@class=\"_21gnE\"]')\n",
    "    for i in Meters[:10000]:\n",
    "        kilo = i.text.split(\"-\")\n",
    "        Kilometers.append(kilo)    \n",
    "    \n",
    "    Model=driver.find_elements(By.XPATH,'//div[@class=\"_2Gr10\"]')\n",
    "    for i in Model[:10000]:\n",
    "        car = i.text\n",
    "        Car_model.append(car)\n",
    "    \n",
    "    Loc=driver.find_elements(By.XPATH,'//div[@class=\"_3VRSm\"]')\n",
    "    for i in Loc[:10000]:\n",
    "        l = i.text.split(\" \")[0]\n",
    "        Location.append(l)\n",
    "    next_but=driver.find_element(By.CLASS_NAME,'//div[@class=\"_38O09\"]')\n",
    "    next_but.click()\n",
    "    time.sleep(5)\n"
   ]
  },
  {
   "cell_type": "code",
   "execution_count": 10,
   "id": "7d5fde61",
   "metadata": {},
   "outputs": [
    {
     "data": {
      "text/plain": [
       "0"
      ]
     },
     "execution_count": 10,
     "metadata": {},
     "output_type": "execute_result"
    }
   ],
   "source": [
    "len(Sale_price)\n"
   ]
  },
  {
   "cell_type": "code",
   "execution_count": null,
   "id": "0aabd873",
   "metadata": {},
   "outputs": [],
   "source": []
  },
  {
   "cell_type": "code",
   "execution_count": null,
   "id": "ca3f6362",
   "metadata": {},
   "outputs": [],
   "source": []
  }
 ],
 "metadata": {
  "kernelspec": {
   "display_name": "Python 3 (ipykernel)",
   "language": "python",
   "name": "python3"
  },
  "language_info": {
   "codemirror_mode": {
    "name": "ipython",
    "version": 3
   },
   "file_extension": ".py",
   "mimetype": "text/x-python",
   "name": "python",
   "nbconvert_exporter": "python",
   "pygments_lexer": "ipython3",
   "version": "3.9.12"
  }
 },
 "nbformat": 4,
 "nbformat_minor": 5
}
