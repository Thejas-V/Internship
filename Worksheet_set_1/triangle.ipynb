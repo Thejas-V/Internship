{
  "metadata": {
    "language_info": {
      "codemirror_mode": {
        "name": "python",
        "version": 3
      },
      "file_extension": ".py",
      "mimetype": "text/x-python",
      "name": "python",
      "nbconvert_exporter": "python",
      "pygments_lexer": "ipython3",
      "version": "3.8"
    },
    "kernelspec": {
      "name": "python",
      "display_name": "Python (Pyodide)",
      "language": "python"
    }
  },
  "nbformat_minor": 4,
  "nbformat": 4,
  "cells": [
    {
      "cell_type": "code",
      "source": "def pythagoras(opposite_side,adjacent_side,hypotenuse):\n        if opposite_side == str(\"x\"):\n            return (\"Opposite = \" + str(((hypotenuse**2) - (adjacent_side**2))**0.5))\n        elif adjacent_side == str(\"x\"):\n            return (\"Adjacent = \" + str(((hypotenuse**2) - (opposite_side**2))**0.5))\n        elif hypotenuse == str(\"x\"):\n            return (\"Hypotenuse = \" + str(((opposite_side**2) + (adjacent_side**2))**0.5))\n        else:\n            return \"You know the answer!\"\n # change position of x to find the length of side   \nprint(pythagoras(3,4,'x'))\n",
      "metadata": {
        "trusted": true
      },
      "execution_count": 2,
      "outputs": [
        {
          "name": "stdout",
          "text": "Hypotenuse = 5.0\n",
          "output_type": "stream"
        }
      ]
    },
    {
      "cell_type": "code",
      "source": "",
      "metadata": {},
      "execution_count": null,
      "outputs": []
    }
  ]
}