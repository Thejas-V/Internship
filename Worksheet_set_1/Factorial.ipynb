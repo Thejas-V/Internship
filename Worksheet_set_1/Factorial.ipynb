{
  "metadata": {
    "language_info": {
      "codemirror_mode": {
        "name": "python",
        "version": 3
      },
      "file_extension": ".py",
      "mimetype": "text/x-python",
      "name": "python",
      "nbconvert_exporter": "python",
      "pygments_lexer": "ipython3",
      "version": "3.8"
    },
    "kernelspec": {
      "name": "python",
      "display_name": "Python (Pyodide)",
      "language": "python"
    }
  },
  "nbformat_minor": 4,
  "nbformat": 4,
  "cells": [
    {
      "cell_type": "code",
      "source": "# Python program to find the factorial of a number provided by the user.\n# change the value for a different result\nnum = 8\n\nfactorial = 1\n# check if the number is negative, positive or zero\nif num < 0:\n    print(\"Sorry, factorial does not exist for negative numbers\")\nelif num == 0:\n    print(\"The factorial of 0 is 1\")\nelse:\n    for i in range(1,num + 1):\n        factorial = factorial*i\n    print(\"The factorial of\",num,\"is\",factorial)\n\n\n",
      "metadata": {
        "trusted": true
      },
      "execution_count": 8,
      "outputs": [
        {
          "name": "stdout",
          "text": "The factorial of 8 is 40320\n",
          "output_type": "stream"
        }
      ]
    },
    {
      "cell_type": "code",
      "source": "",
      "metadata": {},
      "execution_count": null,
      "outputs": []
    }
  ]
}