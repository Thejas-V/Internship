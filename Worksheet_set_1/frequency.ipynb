{
  "metadata": {
    "language_info": {
      "codemirror_mode": {
        "name": "python",
        "version": 3
      },
      "file_extension": ".py",
      "mimetype": "text/x-python",
      "name": "python",
      "nbconvert_exporter": "python",
      "pygments_lexer": "ipython3",
      "version": "3.8"
    },
    "kernelspec": {
      "name": "python",
      "display_name": "Python (Pyodide)",
      "language": "python"
    }
  },
  "nbformat_minor": 4,
  "nbformat": 4,
  "cells": [
    {
      "cell_type": "code",
      "source": "# each occurrence frequency of letters using \n# collections.Counter()\nfrom collections import Counter\n  \n# initializing string \ntest_str = \"Preetham\"\n  \n# using collections.Counter() to get \n# count of each element in string \nres = Counter(test_str)\n  \n# printing result \nprint (\"Count of all characters in GeeksforGeeks is :\\n \"+  str(res))",
      "metadata": {
        "trusted": true
      },
      "execution_count": 2,
      "outputs": [
        {
          "name": "stdout",
          "text": "Count of all characters in GeeksforGeeks is :\n Counter({'e': 2, 'P': 1, 'r': 1, 't': 1, 'h': 1, 'a': 1, 'm': 1})\n",
          "output_type": "stream"
        }
      ]
    },
    {
      "cell_type": "code",
      "source": "",
      "metadata": {},
      "execution_count": null,
      "outputs": []
    }
  ]
}